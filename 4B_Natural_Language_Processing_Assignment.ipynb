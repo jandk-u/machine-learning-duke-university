{
 "cells": [
  {
   "cell_type": "markdown",
   "metadata": {},
   "source": [
    "# PyTorch Assignment: Natural Language Processing (NLP)"
   ]
  },
  {
   "cell_type": "markdown",
   "metadata": {},
   "source": [
    "**[Duke Community Standard](http://integrity.duke.edu/standard.html): By typing your name below, you are certifying that you have adhered to the Duke Community Standard in completing this assignment.**\n",
    "\n",
    "Name: "
   ]
  },
  {
   "cell_type": "markdown",
   "metadata": {},
   "source": [
    "### Text Classification\n",
    "\n",
    "In Notebook 4A, we built a sentiment analysis model for movie reviews.\n",
    "That particular sentiment analysis was a two-class classification problem, where the two classes were whether the review was positive or negative.\n",
    "Of course, natural language comes in all sorts of different forms; sometimes we want to perform other types of classification.\n",
    "\n",
    "For example, the AG News dataset contains text from 127600 online news articles, from 4 different categories: World, Sports, Business, and Science/Technology.\n",
    "AG News is typically used for topic classification: given an unseen news article, we're interested in predicting the topic.\n",
    "For this assignment, you'll be training several models on the AG News dataset.\n",
    "Unlike the quick example we trained in Notebook 4A, however, we're going to *learn* the word embeddings.\n",
    "Since you may be unfamiliar with AG News, we're going to walk through how to load the data, to get you started.\n",
    "\n",
    "\n",
    "### Loading AG News with Torchtext\n",
    "\n",
    "The AG News dataset is one of many included Torchtext.\n",
    "It can be found grouped together with many of the other text classification datasets.\n",
    "While we can download the source text online, Torchtext makes it retrievable with a quick API call&ast;. If you are running this notebook on your machine,  you can uncomment and run this block:"
   ]
  },
  {
   "cell_type": "code",
   "execution_count": 2,
   "metadata": {
    "scrolled": false
   },
   "outputs": [],
   "source": [
    "# import torchtext\n",
    "\n",
    "# agnews_train, agnews_test = torchtext.datasets.text_classification.DATASETS[\"AG_NEWS\"](root=\"./datasets\")"
   ]
  },
  {
   "cell_type": "markdown",
   "metadata": {},
   "source": [
    "<font size=\"1\">&ast;At the time this notebook was created, Torchtext contains a small bug in its csv reader.\n",
    "You may need to change one line in the source code, as suggested [here](https://discuss.pytorch.org/t/one-error-about-the-utils-pys-code/53885) to successfully load the AG News dataset.\n",
    "</font>\n",
    "\n",
    "Unfortunately, Torchtext assumes we have network connectivity. If we don't have network access, such as notebooks running in Coursera Labs, we need to reimplement some Torchtext functionality. Skip this next block if you were able to successfully run the previous code:"
   ]
  },
  {
   "cell_type": "code",
   "execution_count": 1,
   "metadata": {},
   "outputs": [
    {
     "name": "stderr",
     "output_type": "stream",
     "text": [
      "120000lines [00:04, 29906.14lines/s]\n",
      "120000lines [00:07, 16914.29lines/s]\n",
      "7600lines [00:00, 16651.72lines/s]\n"
     ]
    }
   ],
   "source": [
    "import torchtext\n",
    "\n",
    "ngrams = 1\n",
    "train_csv_path = './datasets/ag_news_csv/train.csv'\n",
    "test_csv_path = './datasets/ag_news_csv/test.csv'\n",
    "vocab = torchtext.vocab.build_vocab_from_iterator(\n",
    "    torchtext.datasets.text_classification._csv_iterator(train_csv_path, ngrams))\n",
    "train_data, train_labels = torchtext.datasets.text_classification._create_data_from_iterator(\n",
    "        vocab, torchtext.datasets.text_classification._csv_iterator(train_csv_path, ngrams, yield_cls=True), False)\n",
    "test_data, test_labels = torchtext.datasets.text_classification._create_data_from_iterator(\n",
    "        vocab, torchtext.datasets.text_classification._csv_iterator(test_csv_path, ngrams, yield_cls=True), False)\n",
    "if len(train_labels ^ test_labels) > 0:\n",
    "    raise ValueError(\"Training and test labels don't match\")\n",
    "agnews_train = torchtext.datasets.TextClassificationDataset(vocab, train_data, train_labels)\n",
    "agnews_test = torchtext.datasets.TextClassificationDataset(vocab, test_data, test_labels)"
   ]
  },
  {
   "cell_type": "markdown",
   "metadata": {},
   "source": [
    "Let's inspect the first data example to see how the data is formatted:"
   ]
  },
  {
   "cell_type": "code",
   "execution_count": 3,
   "metadata": {
    "scrolled": true
   },
   "outputs": [
    {
     "name": "stdout",
     "output_type": "stream",
     "text": [
      "(2, tensor([  432,   426,     2,  1606, 14839,   114,    67,     3,   849,    14,\n",
      "           28,    15,    28,    16, 50726,     4,   432,   375,    17,    10,\n",
      "        67508,     7, 52259,     4,    43,  4010,   784,   326,     2]))\n"
     ]
    }
   ],
   "source": [
    "print(agnews_train[0])"
   ]
  },
  {
   "cell_type": "markdown",
   "metadata": {},
   "source": [
    "We can see that Torchtext has each example as a tuple, with the first element being the label (0, 1, 2, or 3), and the second element the text data.\n",
    "Notice that the text is already \"tokenized\": the words of the news article have been represented as word IDs, with each number corresponding to a unique word.\n",
    "\n",
    "In previous notebooks, we've used `DataLoader`s to handle shuffling and batching.\n",
    "However, if we directly try to feed these dataset objects into a `DataLoader`, we will face an error when we try to draw our first batch.\n",
    "Can you figure out why?\n",
    "Here's a hint:"
   ]
  },
  {
   "cell_type": "code",
   "execution_count": 2,
   "metadata": {
    "scrolled": true
   },
   "outputs": [
    {
     "name": "stdout",
     "output_type": "stream",
     "text": [
      "Length of the first text example: 29\n",
      "Length of the second text example: 42\n"
     ]
    }
   ],
   "source": [
    "print(\"Length of the first text example: {}\".format(len(agnews_train[0][1])))\n",
    "print(\"Length of the second text example: {}\".format(len(agnews_train[1][1])))"
   ]
  },
  {
   "cell_type": "markdown",
   "metadata": {},
   "source": [
    "Because each example is a news snippet, they can vary in length.\n",
    "This is natural, as humans don't stick to consistent sentence length while writing.\n",
    "This creates a bit of a problem while batching, as default tensors expect the size of each dimension to be consistent.\n",
    "\n",
    "How do we fix this?\n",
    "The common solution is to perform padding and/or truncation, picking a maximum sequence length $L$.\n",
    "Inputs longer than the maximum length are truncated (i.e. $x_{t>L}$ are discarded), and shorter sequences have zeros padded to the end until they are all of length of $L$.\n",
    "We'll focus on padding here, for simplicity.\n",
    "\n",
    "We can perform this padding manually, but Pytorch has this functionality implemented.\n",
    "As an example, let's pad the first two sequences to the same length:"
   ]
  },
  {
   "cell_type": "code",
   "execution_count": 3,
   "metadata": {},
   "outputs": [
    {
     "name": "stdout",
     "output_type": "stream",
     "text": [
      "First sequence padded: tensor([  432,   426,     2,  1606, 14839,   114,    67,     3,   849,    14,\n",
      "           28,    15,    28,    16, 50726,     4,   432,   375,    17,    10,\n",
      "        67508,     7, 52259,     4,    43,  4010,   784,   326,     2,     0,\n",
      "            0,     0,     0,     0,     0,     0,     0,     0,     0,     0,\n",
      "            0,     0])\n",
      "First sequence length: 42\n",
      "Second sequence padded: tensor([15875,  1073,   855,  1311,  4251,    14,    28,    15,    28,    16,\n",
      "          930,   798,   321, 15875,    99,     4, 27658,    29,     6,  4460,\n",
      "           12,   565, 52791,     9, 80618,  2126,     8,     3,   526,   242,\n",
      "            4,    29,  3891, 82815,  6575,    11,   207,   360,     7,     3,\n",
      "          127,     2])\n",
      "Second sequence length: 42\n"
     ]
    }
   ],
   "source": [
    "from torch.nn.utils.rnn import pad_sequence\n",
    "\n",
    "padded_exs = pad_sequence([agnews_train[0][1], agnews_train[1][1]])\n",
    "print(\"First sequence padded: {}\".format(padded_exs[:,0]))\n",
    "print(\"First sequence length: {}\".format(len(padded_exs[:,0])))\n",
    "print(\"Second sequence padded: {}\".format(padded_exs[:,1]))\n",
    "print(\"Second sequence length: {}\".format(len(padded_exs[:,1])))"
   ]
  },
  {
   "cell_type": "markdown",
   "metadata": {},
   "source": [
    "Although originally of unequal lengths, both sequences are now the same length, with the shorter one padded with zeros.\n",
    "\n",
    "We'd like the `DataLoader` to perform this padding operation as part of its batching process, as this will allow us to effectively combine varying-length sequences in the same input tensor.\n",
    "Fortunately, `Dataloader`s let us override the default batching behavior with the `collate_fn` argument."
   ]
  },
  {
   "cell_type": "code",
   "execution_count": 4,
   "metadata": {},
   "outputs": [],
   "source": [
    "import numpy as np\n",
    "import torch\n",
    "\n",
    "def collator(batch):\n",
    "    labels = torch.tensor([example[0] for example in batch])\n",
    "    sentences = [example[1] for example in batch]\n",
    "    data = pad_sequence(sentences)\n",
    "    \n",
    "    return [data, labels]"
   ]
  },
  {
   "cell_type": "markdown",
   "metadata": {},
   "source": [
    "Now that we have our collator padding our sequences, we can create our `DataLoader`s.\n",
    "One last thing we need to do is choose a batch size for our `DataLoader`.\n",
    "This may be something you have to play around with.\n",
    "Too big and you may exceed your system's memory; too small and training may take longer (especially on CPU).\n",
    "Batch size also tends to influence training dynamics and model generalization.\n",
    "Fiddle around and see what works best."
   ]
  },
  {
   "cell_type": "code",
   "execution_count": 5,
   "metadata": {},
   "outputs": [],
   "source": [
    "BATCH_SIZE = 128\n",
    "\n",
    "train_loader = torch.utils.data.DataLoader(agnews_train, batch_size=BATCH_SIZE, shuffle=True, collate_fn=collator)\n",
    "test_loader = torch.utils.data.DataLoader(agnews_test, batch_size=BATCH_SIZE, shuffle=False, collate_fn=collator)"
   ]
  },
  {
   "cell_type": "markdown",
   "metadata": {},
   "source": [
    "### Simple Word Embedding Model"
   ]
  },
  {
   "cell_type": "markdown",
   "metadata": {},
   "source": [
    "First, let's try out the Simple Word Embedding Model (SWEM) that we built in Notebook 4A on the AG News dataset.\n",
    "Unlike before though, instead of loading pre-trained embeddings, let's learn the embeddings from scratch.\n",
    "Before we begin, it will be helpful to define a few more hyperparameters."
   ]
  },
  {
   "cell_type": "code",
   "execution_count": 6,
   "metadata": {},
   "outputs": [],
   "source": [
    "VOCAB_SIZE = len(agnews_train.get_vocab())\n",
    "EMBED_DIM = 100\n",
    "HIDDEN_DIM = 64\n",
    "NUM_OUTPUTS = len(agnews_train.get_labels())\n",
    "NUM_EPOCHS = 3"
   ]
  },
  {
   "cell_type": "markdown",
   "metadata": {},
   "source": [
    "Once again, we're going to organize our model as a `nn.Module`.\n",
    "Instead of assuming the input is already an embedding, we're going to make learning the embedding as part of our model.\n",
    "We do this by using `nn.Embedding` to perform an embedding look-up at the beginning of our forward pass.\n",
    "Once we've done the look up, we'll have a minibatch of embedded sequences of dimension $L \\times$ `BATCH_SIZE` $\\times$ `EMBED_DIM`.\n",
    "For SWEM, remember, we take the mean&ast; across the length dimension to get an average embedding for the sequence.\n",
    "\n",
    "<font size=\"1\"> \n",
    "&ast;Note: Technically we should only take the mean across the embeddings at the positions corresponding to \"real\" words in our input, and not for the zero paddings we artificially added.\n",
    "This can be done by generating a binary mask while doing the padding to track the \"real\" words in the input.\n",
    "Ultimately though, this refinement doesn't have much impact on the results for this particular task, so we omit it for simplicity.\n",
    "</font>"
   ]
  },
  {
   "cell_type": "code",
   "execution_count": 7,
   "metadata": {
    "scrolled": true
   },
   "outputs": [],
   "source": [
    "import torch.nn as nn\n",
    "import torch.nn.functional as F\n",
    "\n",
    "class SWEM(nn.Module):\n",
    "    def __init__(self, vocab_size, embedding_size, hidden_dim, num_outputs):\n",
    "        super().__init__()\n",
    "        self.embedding = nn.Embedding(vocab_size, embedding_size)\n",
    "        \n",
    "        self.fc1 = nn.Linear(embedding_size, hidden_dim)\n",
    "        self.fc2 = nn.Linear(hidden_dim, num_outputs)\n",
    "\n",
    "    def forward(self, x):\n",
    "        embed = self.embedding(x)\n",
    "        embed_mean = torch.mean(embed, dim=0)\n",
    "        \n",
    "        h = self.fc1(embed_mean)\n",
    "        h = F.relu(h)\n",
    "        h = self.fc2(h)\n",
    "        return h"
   ]
  },
  {
   "cell_type": "markdown",
   "metadata": {},
   "source": [
    "With the model defined, we can instantiate, train, and evaluate.\n",
    "Try doing so below!\n",
    "Because of the way we organized our model as an `nn.Module` and our data pipeline with a `DataLoader`, you should be able to use much of the same code as we have in other examples.\n",
    "\n",
    "<font size=\"1\"> \n",
    "Note: Depending on you system, training may take up to a few hours, depending on how many training epochs you set.\n",
    "To see results sooner, you can train for less iterations, but perhaps at the cost of final accuracy.\n",
    "On the other hand, using a GPU (and GPU-enabled PyTorch) should enable full training in a couple minutes.\n",
    "</font>"
   ]
  },
  {
   "cell_type": "code",
   "execution_count": 7,
   "metadata": {
    "scrolled": false
   },
   "outputs": [
    {
     "data": {
      "application/vnd.jupyter.widget-view+json": {
       "model_id": "0fb9ad8b423249b79a9426aada776867",
       "version_major": 2,
       "version_minor": 0
      },
      "text/plain": [
       "HBox(children=(FloatProgress(value=0.0, max=938.0), HTML(value='')))"
      ]
     },
     "metadata": {},
     "output_type": "display_data"
    },
    {
     "name": "stdout",
     "output_type": "stream",
     "text": [
      "\n",
      "Epoch: 0 \t Train Loss: 0.4782449007034302 \t Train Acc: 0.7300583124160767\n"
     ]
    },
    {
     "data": {
      "application/vnd.jupyter.widget-view+json": {
       "model_id": "8678809d0575489bb3b1132926d1b9ce",
       "version_major": 2,
       "version_minor": 0
      },
      "text/plain": [
       "HBox(children=(FloatProgress(value=0.0, max=938.0), HTML(value='')))"
      ]
     },
     "metadata": {},
     "output_type": "display_data"
    },
    {
     "name": "stdout",
     "output_type": "stream",
     "text": [
      "\n",
      "Epoch: 1 \t Train Loss: 0.34108850359916687 \t Train Acc: 0.8962083458900452\n"
     ]
    },
    {
     "data": {
      "application/vnd.jupyter.widget-view+json": {
       "model_id": "a7995edb83724b13a787c1117c30917e",
       "version_major": 2,
       "version_minor": 0
      },
      "text/plain": [
       "HBox(children=(FloatProgress(value=0.0, max=938.0), HTML(value='')))"
      ]
     },
     "metadata": {},
     "output_type": "display_data"
    },
    {
     "name": "stdout",
     "output_type": "stream",
     "text": [
      "\n",
      "Epoch: 2 \t Train Loss: 0.2079930603504181 \t Train Acc: 0.9176083207130432\n"
     ]
    },
    {
     "data": {
      "application/vnd.jupyter.widget-view+json": {
       "model_id": "5d90eb514ff749acb8d031255deece66",
       "version_major": 2,
       "version_minor": 0
      },
      "text/plain": [
       "HBox(children=(FloatProgress(value=0.0, max=60.0), HTML(value='')))"
      ]
     },
     "metadata": {},
     "output_type": "display_data"
    },
    {
     "name": "stdout",
     "output_type": "stream",
     "text": [
      "\n",
      "Test Acc: inf\n"
     ]
    }
   ],
   "source": [
    "### YOUR CODE HERE ###\n",
    "from tqdm.notebook import tqdm\n",
    "model = SWEM(vocab_size=VOCAB_SIZE, embedding_size=EMBED_DIM, hidden_dim=HIDDEN_DIM, num_outputs=NUM_OUTPUTS)\n",
    "\n",
    "loss = nn.CrossEntropyLoss()\n",
    "optimizer = torch.optim.Adam(model.parameters(), lr=0.001)\n",
    "\n",
    "for epoch in range(NUM_EPOCHS):\n",
    "    correct = 0\n",
    "    num_examples = 0\n",
    "    for inputs, labels in tqdm(train_loader):\n",
    "        optimizer.zero_grad()\n",
    "        \n",
    "        y = model(inputs)\n",
    "        l = loss(y, labels)\n",
    "        \n",
    "        l.backward()\n",
    "        optimizer.step()\n",
    "        \n",
    "        predictions = torch.argmax(y, dim=1)\n",
    "        correct += torch.sum((predictions==labels).float())\n",
    "        num_examples += len(labels)\n",
    "        \n",
    "    acc = correct/num_examples\n",
    "    print(f\"Epoch: {epoch} \\t Train Loss: {l} \\t Train Acc: {acc}\")\n",
    "\n",
    "correct = 0\n",
    "num_example = 0\n",
    "with torch.no_grad():\n",
    "    for inputs, labels in tqdm(test_loader):\n",
    "        y = model(inputs)\n",
    "        predictions = torch.argmax(y, dim=1)\n",
    "        correct += torch.sum((predictions==labels).float())\n",
    "        num_examples += len(labels)\n",
    "    print(f\"Test Acc: {correct/num_example}\")"
   ]
  },
  {
   "cell_type": "code",
   "execution_count": 9,
   "metadata": {},
   "outputs": [
    {
     "data": {
      "application/vnd.jupyter.widget-view+json": {
       "model_id": "c1d41eba229d4f9db4ac82cc85364d3c",
       "version_major": 2,
       "version_minor": 0
      },
      "text/plain": [
       "HBox(children=(FloatProgress(value=0.0, max=60.0), HTML(value='')))"
      ]
     },
     "metadata": {},
     "output_type": "display_data"
    },
    {
     "name": "stdout",
     "output_type": "stream",
     "text": [
      "\n",
      "Test Acc: 0.9059210419654846\n"
     ]
    }
   ],
   "source": [
    "correct = 0\n",
    "num_example = 0\n",
    "with torch.no_grad():\n",
    "    for inputs, labels in tqdm(test_loader):\n",
    "        y = model(inputs)\n",
    "        predictions = torch.argmax(y, dim=1)\n",
    "        correct += torch.sum((predictions==labels).float())\n",
    "        num_example += len(labels)\n",
    "    print(f\"Test Acc: {correct/num_example}\")"
   ]
  },
  {
   "cell_type": "markdown",
   "metadata": {},
   "source": [
    "### RNNs"
   ]
  },
  {
   "cell_type": "markdown",
   "metadata": {},
   "source": [
    "SWEM takes a mean over the time dimension, which means we're losing any information about the order of the data sequence.\n",
    "How detrimental is this for document topic classification?\n",
    "Modify the SWEM model to use an RNN instead.\n",
    "Once you get an RNN working, try a GRU and LSTM as well."
   ]
  },
  {
   "cell_type": "code",
   "execution_count": 8,
   "metadata": {},
   "outputs": [],
   "source": [
    "import numpy as np\n",
    "import torch\n",
    "\n",
    "def collator(batch):\n",
    "    labels = torch.tensor([example[0] for example in batch])\n",
    "    sentences = [example[1] for example in batch]\n",
    "    data = pad_sequence(sentences)\n",
    "    real_sentc_length = [len(example[1]) for example in batch]\n",
    "    return [data, labels], real_sentc_length"
   ]
  },
  {
   "cell_type": "code",
   "execution_count": 9,
   "metadata": {},
   "outputs": [],
   "source": [
    "BATCH_SIZE = 128\n",
    "\n",
    "train_loader = torch.utils.data.DataLoader(agnews_train, batch_size=BATCH_SIZE, shuffle=True, collate_fn=collator)\n",
    "test_loader = torch.utils.data.DataLoader(agnews_test, batch_size=BATCH_SIZE, shuffle=False, collate_fn=collator)"
   ]
  },
  {
   "cell_type": "code",
   "execution_count": 11,
   "metadata": {
    "scrolled": true
   },
   "outputs": [
    {
     "data": {
      "application/vnd.jupyter.widget-view+json": {
       "model_id": "8d04781d11be48f288a9ab39ade6738a",
       "version_major": 2,
       "version_minor": 0
      },
      "text/plain": [
       "HBox(children=(FloatProgress(value=0.0, max=3.0), HTML(value='')))"
      ]
     },
     "metadata": {},
     "output_type": "display_data"
    },
    {
     "data": {
      "application/vnd.jupyter.widget-view+json": {
       "model_id": "f7b758aa335547998f1b5cc965932b43",
       "version_major": 2,
       "version_minor": 0
      },
      "text/plain": [
       "HBox(children=(FloatProgress(value=0.0, max=938.0), HTML(value='')))"
      ]
     },
     "metadata": {},
     "output_type": "display_data"
    },
    {
     "name": "stdout",
     "output_type": "stream",
     "text": [
      "\n",
      "Train loss: 0.6115707159042358, \t Train acc: 0.6200000047683716\n"
     ]
    },
    {
     "data": {
      "application/vnd.jupyter.widget-view+json": {
       "model_id": "f8ca0bae30784e7db1e9351df05761ca",
       "version_major": 2,
       "version_minor": 0
      },
      "text/plain": [
       "HBox(children=(FloatProgress(value=0.0, max=938.0), HTML(value='')))"
      ]
     },
     "metadata": {},
     "output_type": "display_data"
    },
    {
     "name": "stdout",
     "output_type": "stream",
     "text": [
      "\n",
      "Train loss: 0.43653014302253723, \t Train acc: 0.8356416821479797\n"
     ]
    },
    {
     "data": {
      "application/vnd.jupyter.widget-view+json": {
       "model_id": "3f7d44063bbb4ac3a1cc941478d01675",
       "version_major": 2,
       "version_minor": 0
      },
      "text/plain": [
       "HBox(children=(FloatProgress(value=0.0, max=938.0), HTML(value='')))"
      ]
     },
     "metadata": {},
     "output_type": "display_data"
    },
    {
     "name": "stdout",
     "output_type": "stream",
     "text": [
      "\n",
      "Train loss: 0.3161759376525879, \t Train acc: 0.8774499893188477\n",
      "\n"
     ]
    }
   ],
   "source": [
    "### YOUR CODE HERE ###\n",
    "from tqdm.notebook import tqdm\n",
    "from torch.nn.utils.rnn import pack_padded_sequence\n",
    "from torch.nn.utils.rnn import pad_packed_sequence\n",
    "\n",
    "class RNN_Model(nn.Module):\n",
    "    def __init__(self, vocab_size, embedding_size, hidden_dim, num_outputs):\n",
    "        super().__init__()\n",
    "        self.vocab_size=vocab_size\n",
    "        self.embedding_size=embedding_size\n",
    "        self.hidden_dim=hidden_dim\n",
    "        self.num_outputs=num_outputs\n",
    "        \n",
    "        self.embedding = nn.Embedding(vocab_size, embedding_size)\n",
    "        self.rnn = nn.RNN(embedding_size,hidden_dim,num_layers=1,batch_first=False)\n",
    "        self.fc = nn.Linear(hidden_dim, num_outputs)\n",
    "        \n",
    "    def forward(self, x, real_seq_length):\n",
    "        embed = self.embedding(x)\n",
    "        embed_packed = pack_padded_sequence(embed, real_seq_length, enforce_sorted=False)\n",
    "        h0 = torch.zeros(1, embed.size(1), self.hidden_dim)\n",
    "        out, hidden = self.rnn(embed_packed, h0)\n",
    "        \n",
    "        h = self.fc(hidden.squeeze(0))\n",
    "        return h \n",
    "    \n",
    "model_rnn = RNN_Model(vocab_size=VOCAB_SIZE, embedding_size=EMBED_DIM, hidden_dim=HIDDEN_DIM, num_outputs=NUM_OUTPUTS)\n",
    "\n",
    "Loss = nn.CrossEntropyLoss()\n",
    "optimizer = torch.optim.Adam(model_rnn.parameters(), lr=0.001)\n",
    "\n",
    "for epoch in tqdm(range(NUM_EPOCHS)):\n",
    "    correct = 0\n",
    "    num_examples = 0\n",
    "    for (inputs, labels), real_sentences_lengths in tqdm(train_loader):\n",
    "        optimizer.zero_grad()\n",
    "        \n",
    "        y = model_rnn(inputs, real_sentences_lengths)\n",
    "        loss = Loss(y, labels)\n",
    "        \n",
    "        loss.backward()\n",
    "        optimizer.step()\n",
    "        \n",
    "        predictions = torch.argmax(y, dim=1)\n",
    "        correct += torch.sum((predictions==labels).float())\n",
    "        num_examples += len(labels)\n",
    "        \n",
    "    print(f\"Train loss: {loss}, \\t Train acc: {correct/num_examples}\")"
   ]
  },
  {
   "cell_type": "code",
   "execution_count": 15,
   "metadata": {},
   "outputs": [
    {
     "name": "stdout",
     "output_type": "stream",
     "text": [
      "\n"
     ]
    },
    {
     "data": {
      "application/vnd.jupyter.widget-view+json": {
       "model_id": "c65314dc4a9a4ecd92ab90cb44f7990b",
       "version_major": 2,
       "version_minor": 0
      },
      "text/plain": [
       "HBox(children=(FloatProgress(value=0.0, max=60.0), HTML(value='')))"
      ]
     },
     "metadata": {},
     "output_type": "display_data"
    },
    {
     "name": "stdout",
     "output_type": "stream",
     "text": [
      "\n",
      "Tesst acc: 0.8546052575111389\n"
     ]
    }
   ],
   "source": [
    "with torch.no_grad():\n",
    "    correct = 0\n",
    "    num_examples = 0\n",
    "    for (inputs, labels), real_seq_length in tqdm(test_loader):\n",
    "        y = model_rnn(inputs, real_seq_length)\n",
    "        \n",
    "        predictions = torch.argmax(y, dim=1)\n",
    "        correct += sum((predictions==labels).float())\n",
    "        num_examples += len(labels)\n",
    "    print(f\"Tesst acc: {correct/num_examples}\")"
   ]
  },
  {
   "cell_type": "code",
   "execution_count": 22,
   "metadata": {},
   "outputs": [
    {
     "data": {
      "application/vnd.jupyter.widget-view+json": {
       "model_id": "1cc65a2c906347ae8ad11582cfdae5f4",
       "version_major": 2,
       "version_minor": 0
      },
      "text/plain": [
       "HBox(children=(FloatProgress(value=0.0, max=3.0), HTML(value='')))"
      ]
     },
     "metadata": {},
     "output_type": "display_data"
    },
    {
     "data": {
      "application/vnd.jupyter.widget-view+json": {
       "model_id": "4b458eca2551401595ad5d0d4838ada3",
       "version_major": 2,
       "version_minor": 0
      },
      "text/plain": [
       "HBox(children=(FloatProgress(value=0.0, max=938.0), HTML(value='')))"
      ]
     },
     "metadata": {},
     "output_type": "display_data"
    },
    {
     "ename": "TypeError",
     "evalue": "forward() takes 3 positional arguments but 4 were given",
     "output_type": "error",
     "traceback": [
      "\u001b[0;31m---------------------------------------------------------------------------\u001b[0m",
      "\u001b[0;31mTypeError\u001b[0m                                 Traceback (most recent call last)",
      "\u001b[0;32m<ipython-input-22-96f4c4dd9349>\u001b[0m in \u001b[0;36m<module>\u001b[0;34m\u001b[0m\n\u001b[1;32m     35\u001b[0m         \u001b[0moptimizer\u001b[0m\u001b[0;34m.\u001b[0m\u001b[0mzero_grad\u001b[0m\u001b[0;34m(\u001b[0m\u001b[0;34m)\u001b[0m\u001b[0;34m\u001b[0m\u001b[0;34m\u001b[0m\u001b[0m\n\u001b[1;32m     36\u001b[0m \u001b[0;34m\u001b[0m\u001b[0m\n\u001b[0;32m---> 37\u001b[0;31m         \u001b[0my\u001b[0m \u001b[0;34m=\u001b[0m \u001b[0mmodel_lstm\u001b[0m\u001b[0;34m(\u001b[0m\u001b[0minputs\u001b[0m\u001b[0;34m,\u001b[0m \u001b[0mreal_sentences_lengths\u001b[0m\u001b[0;34m,\u001b[0m \u001b[0;34m-\u001b[0m\u001b[0;36m1\u001b[0m\u001b[0;34m)\u001b[0m\u001b[0;34m\u001b[0m\u001b[0;34m\u001b[0m\u001b[0m\n\u001b[0m\u001b[1;32m     38\u001b[0m         \u001b[0mloss\u001b[0m \u001b[0;34m=\u001b[0m \u001b[0mLoss\u001b[0m\u001b[0;34m(\u001b[0m\u001b[0my\u001b[0m\u001b[0;34m,\u001b[0m \u001b[0mlabels\u001b[0m\u001b[0;34m)\u001b[0m\u001b[0;34m\u001b[0m\u001b[0;34m\u001b[0m\u001b[0m\n\u001b[1;32m     39\u001b[0m \u001b[0;34m\u001b[0m\u001b[0m\n",
      "\u001b[0;32m/opt/conda/lib/python3.7/site-packages/torch/nn/modules/module.py\u001b[0m in \u001b[0;36m__call__\u001b[0;34m(self, *input, **kwargs)\u001b[0m\n\u001b[1;32m    530\u001b[0m             \u001b[0mresult\u001b[0m \u001b[0;34m=\u001b[0m \u001b[0mself\u001b[0m\u001b[0;34m.\u001b[0m\u001b[0m_slow_forward\u001b[0m\u001b[0;34m(\u001b[0m\u001b[0;34m*\u001b[0m\u001b[0minput\u001b[0m\u001b[0;34m,\u001b[0m \u001b[0;34m**\u001b[0m\u001b[0mkwargs\u001b[0m\u001b[0;34m)\u001b[0m\u001b[0;34m\u001b[0m\u001b[0;34m\u001b[0m\u001b[0m\n\u001b[1;32m    531\u001b[0m         \u001b[0;32melse\u001b[0m\u001b[0;34m:\u001b[0m\u001b[0;34m\u001b[0m\u001b[0;34m\u001b[0m\u001b[0m\n\u001b[0;32m--> 532\u001b[0;31m             \u001b[0mresult\u001b[0m \u001b[0;34m=\u001b[0m \u001b[0mself\u001b[0m\u001b[0;34m.\u001b[0m\u001b[0mforward\u001b[0m\u001b[0;34m(\u001b[0m\u001b[0;34m*\u001b[0m\u001b[0minput\u001b[0m\u001b[0;34m,\u001b[0m \u001b[0;34m**\u001b[0m\u001b[0mkwargs\u001b[0m\u001b[0;34m)\u001b[0m\u001b[0;34m\u001b[0m\u001b[0;34m\u001b[0m\u001b[0m\n\u001b[0m\u001b[1;32m    533\u001b[0m         \u001b[0;32mfor\u001b[0m \u001b[0mhook\u001b[0m \u001b[0;32min\u001b[0m \u001b[0mself\u001b[0m\u001b[0;34m.\u001b[0m\u001b[0m_forward_hooks\u001b[0m\u001b[0;34m.\u001b[0m\u001b[0mvalues\u001b[0m\u001b[0;34m(\u001b[0m\u001b[0;34m)\u001b[0m\u001b[0;34m:\u001b[0m\u001b[0;34m\u001b[0m\u001b[0;34m\u001b[0m\u001b[0m\n\u001b[1;32m    534\u001b[0m             \u001b[0mhook_result\u001b[0m \u001b[0;34m=\u001b[0m \u001b[0mhook\u001b[0m\u001b[0;34m(\u001b[0m\u001b[0mself\u001b[0m\u001b[0;34m,\u001b[0m \u001b[0minput\u001b[0m\u001b[0;34m,\u001b[0m \u001b[0mresult\u001b[0m\u001b[0;34m)\u001b[0m\u001b[0;34m\u001b[0m\u001b[0;34m\u001b[0m\u001b[0m\n",
      "\u001b[0;31mTypeError\u001b[0m: forward() takes 3 positional arguments but 4 were given"
     ]
    }
   ],
   "source": [
    "from tqdm.notebook import tqdm\n",
    "from torch.nn.utils.rnn import pack_padded_sequence\n",
    "\n",
    "\n",
    "class LSTM_Model(nn.Module):\n",
    "    def __init__(self, vocab_size, embedding_size, hidden_dim, num_outputs):\n",
    "        super().__init__()\n",
    "        self.vocab_size = vocab_size\n",
    "        self.embedding_size = embedding_size\n",
    "        self.hidden_dim = hidden_dim\n",
    "        self.num_outputs = num_outputs\n",
    "        \n",
    "        self.embedding = nn.Embedding(vocab_size, embedding_size)\n",
    "        self.lstm = nn.LSTM(embedding_size, hidden_dim, num_layers=1, batch_first=False)\n",
    "        self.fc = nn.Linear(hidden_dim, num_outputs)\n",
    "        \n",
    "    def forward(self, x, prev):\n",
    "        embed = self.embedding(x)\n",
    "        embed_paded = pack_padded_sequence(embed, real_seq_length, enforce_sorted=False)\n",
    "        out, state = self.lstm(embed_paded, prev)\n",
    "        out = self.fc(out)\n",
    "        return out, state\n",
    "    \n",
    "\n",
    "model_lstm = LSTM_Model(vocab_size=VOCAB_SIZE, embedding_size=EMBED_DIM, hidden_dim=HIDDEN_DIM, num_outputs=NUM_OUTPUTS)\n",
    "\n",
    "Loss = nn.CrossEntropyLoss()\n",
    "optimizer = torch.optim.Adam(model_rnn.parameters(), lr=0.001)\n",
    "\n",
    "for epoch in tqdm(range(NUM_EPOCHS)):\n",
    "    correct = 0\n",
    "    num_examples = 0\n",
    "    for (inputs, labels), real_sentences_lengths in tqdm(train_loader):\n",
    "        optimizer.zero_grad()\n",
    "        \n",
    "        y = model_lstm(inputs, real_sentences_lengths)\n",
    "        loss = Loss(y, labels)\n",
    "        \n",
    "        loss.backward()\n",
    "        optimizer.step()\n",
    "        \n",
    "        predictions = torch.argmax(y, dim=1)\n",
    "        correct += torch.sum((predictions==labels).float())\n",
    "        num_examples += len(labels)\n",
    "        \n",
    "    print(f\"Train loss: {loss}, \\t Train acc: {correct/num_examples}\")"
   ]
  },
  {
   "cell_type": "code",
   "execution_count": null,
   "metadata": {},
   "outputs": [],
   "source": []
  },
  {
   "cell_type": "markdown",
   "metadata": {},
   "source": [
    "### Short Answer:\n",
    "\n",
    "1\\. How do the RNN, GRU, and LSTM compare to SWEM for AG News topic classification?\n",
    "Are you surprised?\n",
    "What about classification might make SWEM so effective for topic classification?"
   ]
  },
  {
   "cell_type": "code",
   "execution_count": null,
   "metadata": {},
   "outputs": [],
   "source": []
  },
  {
   "cell_type": "markdown",
   "metadata": {},
   "source": [
    "`[Your answer here]`"
   ]
  },
  {
   "cell_type": "markdown",
   "metadata": {},
   "source": [
    "2\\. How many learnable parameters do each of the models you've trained have?"
   ]
  },
  {
   "cell_type": "markdown",
   "metadata": {},
   "source": [
    "`[Your answer here]`"
   ]
  }
 ],
 "metadata": {
  "kernelspec": {
   "display_name": "Python 3",
   "language": "python",
   "name": "python3"
  },
  "language_info": {
   "codemirror_mode": {
    "name": "ipython",
    "version": 3
   },
   "file_extension": ".py",
   "mimetype": "text/x-python",
   "name": "python",
   "nbconvert_exporter": "python",
   "pygments_lexer": "ipython3",
   "version": "3.7.6"
  }
 },
 "nbformat": 4,
 "nbformat_minor": 2
}
